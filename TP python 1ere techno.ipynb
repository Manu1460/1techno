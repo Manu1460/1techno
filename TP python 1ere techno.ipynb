{
 "cells": [
  {
   "cell_type": "markdown",
   "metadata": {},
   "source": [
    "# Algorithme et suites :\n",
    "\n",
    "\n"
   ]
  },
  {
   "cell_type": "markdown",
   "metadata": {},
   "source": [
    "## L'objectif de l'ensemble du TP sur jupyter:\n",
    "\n",
    ">- Calculer un terme de rang donné d’une suite, une somme finie de termes.\n",
    ">- Déterminer une liste de termes d’une suite et les représenter.\n",
    ">- Déterminer le rang à partir duquel les termes d'une suite sont supérieurs ou inférieurs à un seuil donné, ou aux termes de même rang d'une autre suite."
   ]
  },
  {
   "cell_type": "markdown",
   "metadata": {},
   "source": [
    "### TP1 Calculer un terme (formule explicite dite relation fonctionnelle)"
   ]
  },
  {
   "cell_type": "code",
   "execution_count": null,
   "metadata": {},
   "outputs": [],
   "source": [
    "def TP1(n):\n",
    "    return 0.5*n**2-3*n"
   ]
  },
  {
   "cell_type": "code",
   "execution_count": null,
   "metadata": {},
   "outputs": [],
   "source": [
    "#Tester la fonction TP1(n)"
   ]
  },
  {
   "cell_type": "markdown",
   "metadata": {},
   "source": [
    "    1. Dans la console demander TP1(9).\n",
    "    2. Quel est le résultat obtenu ?\n",
    "    3. Déterminer l’expression de la suite u associée à ce TP1 et vérifier cette formule avec n="
   ]
  },
  {
   "cell_type": "code",
   "execution_count": null,
   "metadata": {},
   "outputs": [],
   "source": [
    "# Ecrire les réponses aux questions"
   ]
  },
  {
   "cell_type": "markdown",
   "metadata": {},
   "source": [
    "### TP2 Calculer un terme (formule de récurrence)"
   ]
  },
  {
   "cell_type": "markdown",
   "metadata": {},
   "source": [
    "On considère la suite définie par:\n",
    "    \n",
    " $w_0=32$ et $w_{n+1} = -0.5w_{n}+10$\n"
   ]
  },
  {
   "cell_type": "markdown",
   "metadata": {},
   "source": [
    "1. Déterminer par calculs successifs $w_1$ \n",
    "2. Pourquoi est-il pénible d’obtenir $w_{50}$ ? "
   ]
  },
  {
   "cell_type": "code",
   "execution_count": null,
   "metadata": {},
   "outputs": [],
   "source": [
    "# Ecrire les réponses aux questions"
   ]
  },
  {
   "cell_type": "markdown",
   "metadata": {},
   "source": [
    "3. Compléter l’algorithme suivant écrit en langage naturel permettant d’obtenir $w_{n}$."
   ]
  },
  {
   "cell_type": "markdown",
   "metadata": {},
   "source": [
    "\n",
    "$W \\gets 32$\\\n",
    "Pour i allant de 1 à n\\\n",
    "$\\qquad$ $W \\gets $ .......\\\n",
    "Fin Pour\n",
    "\n"
   ]
  },
  {
   "cell_type": "code",
   "execution_count": null,
   "metadata": {},
   "outputs": [],
   "source": [
    "# Ecrire la réponse ici"
   ]
  },
  {
   "cell_type": "markdown",
   "metadata": {},
   "source": [
    "4. Voici  un algorithme écrit en langage python. \n",
    "    Executer le programme et faites afficher la valeur TP2(3)."
   ]
  },
  {
   "cell_type": "code",
   "execution_count": 11,
   "metadata": {},
   "outputs": [],
   "source": [
    "def TP2(n):\n",
    "    w=32\n",
    "    for i in range(1,n):\n",
    "        w=-0.5*w+12\n",
    "    return w\n",
    "        "
   ]
  },
  {
   "cell_type": "code",
   "execution_count": null,
   "metadata": {},
   "outputs": [],
   "source": [
    "#Tester la fonction TP2(n)"
   ]
  },
  {
   "cell_type": "markdown",
   "metadata": {},
   "source": [
    "5. Que renvoie dans la console TP2 (3) ? Obtient-on le terme $w_1$ ?"
   ]
  },
  {
   "cell_type": "code",
   "execution_count": null,
   "metadata": {},
   "outputs": [],
   "source": [
    "# Ecrire la réponse ici"
   ]
  },
  {
   "cell_type": "markdown",
   "metadata": {},
   "source": [
    "6. En fait la fonction TP2 contient deux erreurs. Proposer les modifications pour répondre correctement à la demande."
   ]
  },
  {
   "cell_type": "code",
   "execution_count": null,
   "metadata": {},
   "outputs": [],
   "source": [
    "def TP2modif(n):\n",
    "    ....\n",
    "    ......\n",
    "    ......\n",
    "    return w\n",
    "        "
   ]
  },
  {
   "cell_type": "markdown",
   "metadata": {},
   "source": [
    "### A retenir dans Python:\n",
    "    for i in range(n):...............................................................................\n",
    "    for i in range(n,m):.............................................................................\n",
    "    for i in range(n,m,k):...........................................................................\n",
    "    "
   ]
  },
  {
   "cell_type": "markdown",
   "metadata": {},
   "source": [
    "7. Que renvoie dans la console TP2modif(3) ?"
   ]
  },
  {
   "cell_type": "code",
   "execution_count": null,
   "metadata": {},
   "outputs": [],
   "source": [
    "#Tester la fonction TP2modif(n)"
   ]
  },
  {
   "cell_type": "markdown",
   "metadata": {},
   "source": [
    "8. En utilisant la fonction TP2modif, calculer la valeur de $w_{50}$."
   ]
  },
  {
   "cell_type": "code",
   "execution_count": null,
   "metadata": {},
   "outputs": [],
   "source": [
    "#Tester la fonction TP2modif(n)"
   ]
  },
  {
   "cell_type": "markdown",
   "metadata": {},
   "source": [
    "9. Ouvrir maintenant le tableur office puis compléter l’extrait suivant pour obtenir $w_{50}$\n",
    "Quelle formule avez-vous écrit dans B3 ?"
   ]
  },
  {
   "cell_type": "markdown",
   "metadata": {},
   "source": [
    "<img\n",
    "    src=\"TP2.png\" \n",
    "    alt=\"[ABC Tech posssède 75% de part de marché et XYZ 25%]\"\n",
    "    height=\"300px\" \n",
    "    width=\"300px\" \n",
    "/>"
   ]
  },
  {
   "cell_type": "markdown",
   "metadata": {},
   "source": [
    "### TP3 Déterminer la liste des premiers termes."
   ]
  },
  {
   "cell_type": "markdown",
   "metadata": {},
   "source": [
    "Voici l’algorithme étudié : "
   ]
  },
  {
   "cell_type": "markdown",
   "metadata": {},
   "source": [
    "\n",
    "$A \\gets 10$\\\n",
    "$L \\gets [10]$\\\n",
    "Pour i allant de 1 à 6\\\n",
    "$\\qquad$ $A \\gets \\dfrac{A}{2}+1$\\\n",
    "$\\qquad$ $L \\gets L+[A]$\\\n",
    "Fin Pour\n"
   ]
  },
  {
   "cell_type": "markdown",
   "metadata": {},
   "source": [
    "1. A est une variable représentant …………… mais L est ……………………du fait des crochets.\n"
   ]
  },
  {
   "cell_type": "markdown",
   "metadata": {},
   "source": [
    " 2. Quelle est le contenu de la liste L obtenue en fin de boucle ?"
   ]
  },
  {
   "cell_type": "code",
   "execution_count": 19,
   "metadata": {},
   "outputs": [],
   "source": [
    "# Ecrire la réponse ici"
   ]
  },
  {
   "cell_type": "markdown",
   "metadata": {},
   "source": [
    "3. Voici une traduction de l’algorithme précédent en langage python."
   ]
  },
  {
   "cell_type": "code",
   "execution_count": null,
   "metadata": {},
   "outputs": [],
   "source": [
    "def ListeV():\n",
    "    A=10\n",
    "    L=[A]\n",
    "    for i in range(6):\n",
    "        A=A/2+1\n",
    "        L.append(A)\n",
    "    return(L)\n",
    "        \n",
    "        "
   ]
  },
  {
   "cell_type": "code",
   "execution_count": null,
   "metadata": {},
   "outputs": [],
   "source": [
    "#Tester la fonction Liste(V)"
   ]
  },
  {
   "cell_type": "markdown",
   "metadata": {},
   "source": [
    "## A retenir : les listes  dans python \n",
    "\n",
    "Une liste est une collection d’objets de différents types.\n",
    "On peut les créer de différentes manières et effectuer différentes actions.\n",
    "Voici un mémo sur les listes :"
   ]
  },
  {
   "cell_type": "markdown",
   "metadata": {},
   "source": [
    "<strong>Lien vidéo n°1:</strong>\n",
    "<a href=\"https://youtu.be/rf_q7nPJS1s\">Site de j'ai compris maths </a>     "
   ]
  },
  {
   "cell_type": "markdown",
   "metadata": {},
   "source": [
    "### Caractéristiques des listes"
   ]
  },
  {
   "cell_type": "markdown",
   "metadata": {},
   "source": [
    "\n",
    "||\n",
    "|:-----------------------------------------------|-------------------------------------------------------:|\n",
    "| Créer une liste vite | L=[ ]|\n",
    "| Créer une liste  | L=[10,4,\"toto\",-15]|\n",
    "| Indice|  L[0]:1er~élément de la liste  |\n",
    "| Modifier un élément | L[2]=14 |\n",
    "| Longueur de la liste |   len(L)|\n",
    "| Parcourir une liste |    for i in range(0, len(L) |\n",
    "| L.append(objet) | Ajouter un objet en fin de liste|\n",
    "| L.insert(rang,objet) |Insérer un objet au rang k|\n",
    "|||"
   ]
  },
  {
   "cell_type": "markdown",
   "metadata": {},
   "source": [
    "### Opérations sur les listes"
   ]
  },
  {
   "cell_type": "markdown",
   "metadata": {},
   "source": [
    "\n",
    ">- Additionner deux listes L1+L2 concatène (rassemble en une seule liste) les listes L1 et L2. \n"
   ]
  },
  {
   "cell_type": "code",
   "execution_count": 30,
   "metadata": {},
   "outputs": [],
   "source": [
    "L1=[\"jour\",13,\"nuit\",67]\n",
    "L2=[2,5,8,9]\n",
    "print(L1+L2)\n",
    "#Executer la cellule"
   ]
  },
  {
   "cell_type": "markdown",
   "metadata": {},
   "source": [
    ">- Générer une liste avec une suite numérique.\n"
   ]
  },
  {
   "cell_type": "code",
   "execution_count": 32,
   "metadata": {},
   "outputs": [],
   "source": [
    "#Permet de créer la liste des nombres de la forme 2n-4 pour n allant de 0 à 9\n",
    "L=[2*n-4 for n in range(10)]\n",
    "print(L)\n",
    "#Executer la cellule"
   ]
  },
  {
   "cell_type": "markdown",
   "metadata": {},
   "source": [
    ">- Parcourir les éléments d'une liste"
   ]
  },
  {
   "cell_type": "code",
   "execution_count": null,
   "metadata": {},
   "outputs": [],
   "source": [
    "L=[2*n-3 for n in range(10)]\n",
    "for k in L:\n",
    "    instructions"
   ]
  },
  {
   "cell_type": "markdown",
   "metadata": {},
   "source": [
    "### TP4   Liste pour une suite définie par sa formule explicite."
   ]
  },
  {
   "cell_type": "markdown",
   "metadata": {},
   "source": [
    "La suite u est définie par  $u_{n}= 0,5n^2-3n$   pour n  appartenant à $\\mathbb{N}$ \n",
    "\n"
   ]
  },
  {
   "cell_type": "markdown",
   "metadata": {},
   "source": [
    "Créer un algorithme qui permette de faire afficher les 5 premiers termes de cette suite en utilisant le modèle vu précédemment."
   ]
  },
  {
   "cell_type": "code",
   "execution_count": null,
   "metadata": {},
   "outputs": [],
   "source": [
    "#Taper votre programme ici"
   ]
  },
  {
   "cell_type": "markdown",
   "metadata": {},
   "source": [
    "### TP5   Somme des termes."
   ]
  },
  {
   "cell_type": "markdown",
   "metadata": {},
   "source": [
    "Depuis 2013 , le salaire annuel d’un employé augmente de 3% chaque année. En 2013 son salaire était de 16 000 euros."
   ]
  },
  {
   "cell_type": "markdown",
   "metadata": {},
   "source": [
    "1. Modéliser cette situation par une suite u en prenant u0 pour le salaire en 2013."
   ]
  },
  {
   "cell_type": "code",
   "execution_count": null,
   "metadata": {},
   "outputs": [],
   "source": [
    "# Ecrire la réponse ici"
   ]
  },
  {
   "cell_type": "markdown",
   "metadata": {},
   "source": [
    "2. On veut déterminer le salaire total S reçu par cet employé du 1/01/2013  au 31/12/2018 ."
   ]
  },
  {
   "cell_type": "code",
   "execution_count": null,
   "metadata": {},
   "outputs": [],
   "source": [
    "On propose l’algorithme suivant :"
   ]
  },
  {
   "cell_type": "markdown",
   "metadata": {},
   "source": [
    "\n",
    "$u \\gets 16000$\\\n",
    "$S \\gets u$\\\n",
    "Pour i allant de 1 à ......\\\n",
    "$\\qquad$ $u ................$\\\n",
    "$\\qquad$ $S \\gets S+u$\\\n",
    "Fin Pour"
   ]
  },
  {
   "cell_type": "markdown",
   "metadata": {},
   "source": [
    "a. Compléter les lignes.\n",
    "\n",
    "b. Traduire cet algorithme à l’aide d’une fonction python.\n",
    "\n",
    "c. Quel est le salaire total S reçu par cet employé du 1/01/2013  au 31/12/2018 ?"
   ]
  },
  {
   "cell_type": "code",
   "execution_count": null,
   "metadata": {},
   "outputs": [],
   "source": [
    "#fonction python"
   ]
  },
  {
   "cell_type": "code",
   "execution_count": null,
   "metadata": {},
   "outputs": [],
   "source": [
    "# Donner le salaire obtenu"
   ]
  },
  {
   "cell_type": "markdown",
   "metadata": {},
   "source": [
    "### TP6  recherche d’un seuil."
   ]
  },
  {
   "cell_type": "markdown",
   "metadata": {},
   "source": [
    "Depuis 2013, le salaire annuel d’un employé augmente de 3% chaque année. En 2013 son salaire était de 16 000 euros. On souhaite découvrir à partir de quelle année son salaire annuelle dépassera 25 000 euros."
   ]
  },
  {
   "cell_type": "markdown",
   "metadata": {},
   "source": [
    "Voici un algorithme en langage naturel permettant de répondre à cette question :"
   ]
  },
  {
   "cell_type": "markdown",
   "metadata": {},
   "source": [
    "\n",
    "$u \\gets 16000$\\\n",
    "$n=2013$\\\n",
    "Tant que  .............\\\n",
    "$\\qquad$ $u \\gets................$\\\n",
    "$\\qquad$ $n \\gets ...............$\\\n",
    "Fin Tant que\\\n",
    "Afficher $n$ et $u$"
   ]
  },
  {
   "cell_type": "markdown",
   "metadata": {},
   "source": [
    "a. Compléter cet algorithme.\n",
    "\n",
    "b. Traduire cet algorithme à l’aide d’une fonction python \n",
    "\n",
    "c. En quelle année le salaire annuel dépassera 25 000 euros ? "
   ]
  },
  {
   "cell_type": "code",
   "execution_count": null,
   "metadata": {},
   "outputs": [],
   "source": [
    "#fonction python"
   ]
  },
  {
   "cell_type": "code",
   "execution_count": null,
   "metadata": {},
   "outputs": [],
   "source": [
    "# Donner l'année où le salaire dépassera 25000 euros"
   ]
  },
  {
   "cell_type": "markdown",
   "metadata": {},
   "source": [
    "### TP 7  Affichage du nuage de point."
   ]
  },
  {
   "cell_type": "markdown",
   "metadata": {},
   "source": [
    "\n",
    "Depuis 2013 , le salaire annuel d’un employé augmente de 3% chaque année. En 2013 son salaire était de 16 000 euros."
   ]
  },
  {
   "cell_type": "markdown",
   "metadata": {},
   "source": [
    "On modélise cette situation par la suite :  $u_0=16000$ et $u_{n+1} = 1,03\\times u_{n}$"
   ]
  },
  {
   "cell_type": "markdown",
   "metadata": {},
   "source": [
    "On admet que: $u_{n} = 16000\\times 1,03^{n}$"
   ]
  },
  {
   "cell_type": "code",
   "execution_count": 60,
   "metadata": {},
   "outputs": [],
   "source": [
    "import matplotlib.pyplot as plt\n",
    "\n",
    "def TP7():\n",
    "    plt.axis([-1,20,14000,30000])\n",
    "    x=[n for n in range(20)]\n",
    "    y=[16000*1.03**n for n in range(20)]\n",
    "    plt.scatter(x,y)\n",
    "    plt.show()\n",
    "   \n",
    "    return\n"
   ]
  },
  {
   "cell_type": "code",
   "execution_count": 59,
   "metadata": {},
   "outputs": [],
   "source": [
    "#Executer la fonction TP7()"
   ]
  },
  {
   "cell_type": "markdown",
   "metadata": {},
   "source": [
    "1. Interpréter chacune des lignes précédentes.\n",
    "2. Modifier le pour obtenir l’affichage des 25 premiers termes. ( On pensera à modifier la valeur maximale de l’axe des ordonnées)"
   ]
  },
  {
   "cell_type": "code",
   "execution_count": null,
   "metadata": {},
   "outputs": [],
   "source": [
    "# Réponse à la question 1"
   ]
  },
  {
   "cell_type": "code",
   "execution_count": null,
   "metadata": {},
   "outputs": [],
   "source": [
    "import matplotlib.pyplot as plt\n",
    "\n",
    "def TP7modif():\n",
    "    \n",
    "    \n",
    "    \n",
    "    plt.scatter(x,y)\n",
    "    plt.show()\n",
    "   \n",
    "    return\n"
   ]
  },
  {
   "cell_type": "code",
   "execution_count": null,
   "metadata": {},
   "outputs": [],
   "source": [
    "#Executer la fonction TP7modif()"
   ]
  }
 ],
 "metadata": {
  "kernelspec": {
   "display_name": "Python 3",
   "language": "python",
   "name": "python3"
  },
  "language_info": {
   "codemirror_mode": {
    "name": "ipython",
    "version": 3
   },
   "file_extension": ".py",
   "mimetype": "text/x-python",
   "name": "python",
   "nbconvert_exporter": "python",
   "pygments_lexer": "ipython3",
   "version": "3.7.6"
  }
 },
 "nbformat": 4,
 "nbformat_minor": 4
}
